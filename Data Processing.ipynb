{
 "cells": [
  {
   "cell_type": "code",
   "execution_count": 177,
   "metadata": {
    "pycharm": {
     "name": "#%%\n"
    }
   },
   "outputs": [],
   "source": [
    "import os\n",
    "import pandas as pd"
   ]
  },
  {
   "cell_type": "code",
   "execution_count": 178,
   "metadata": {
    "pycharm": {
     "name": "#%%\n"
    }
   },
   "outputs": [
    {
     "data": {
      "text/plain": "['Akkar oil explosion.xlsx',\n 'August 4 lebanon.xlsx',\n 'Bank Sector.xlsx',\n 'Beirut  Explosion 2.xlsx',\n 'beirut blast.xlsx',\n 'Beirut bomb.xlsx',\n 'Beirut Explosion.xlsx',\n 'Beirut port.xlsx',\n 'black market rate.xlsx',\n 'cash withdrawal.xlsx',\n 'decrease lira rate.xlsx',\n 'fresh deposits.xlsx',\n 'fresh dollar.xlsx',\n 'increase lira rate.xlsx',\n 'Lebanese Crisis.xlsx',\n 'lebanese exchange rate.xlsx',\n 'Lebanese Lira Inflation.xlsx',\n 'lebanese lira rate.xlsx',\n 'Lebanese Lira.xlsx',\n 'lebanese politicians.xlsx',\n 'lebanese politics.xlsx',\n 'Lebanese prime minister.xlsx',\n 'Lebanon Currency.xlsx',\n 'Lebanon Economic crisis.xlsx',\n 'lebanon elections.xlsx',\n 'Lira Hyperinflation.xlsx',\n 'monthly withdrawals .xlsx',\n 'resignation lebanon.xlsx',\n 'sayrafa.xlsx',\n 'world bank.xlsx']"
     },
     "execution_count": 178,
     "metadata": {},
     "output_type": "execute_result"
    }
   ],
   "source": [
    "path = os.getcwd()\n",
    "files = os.listdir(path)\n",
    "files_xls = [f for f in files if f[-4:] == 'xlsx']\n",
    "files_xls #Display xlsx files in selected folder"
   ]
  },
  {
   "cell_type": "code",
   "execution_count": 179,
   "metadata": {
    "pycharm": {
     "name": "#%%\n"
    }
   },
   "outputs": [],
   "source": [
    "df = pd.DataFrame()"
   ]
  },
  {
   "cell_type": "code",
   "execution_count": 180,
   "metadata": {
    "pycharm": {
     "name": "#%%\n"
    }
   },
   "outputs": [],
   "source": [
    "for f in files_xls:\n",
    "    data = pd.read_excel(f)\n",
    "    df = pd.concat([df,data]) #import all excel files into a single dataframe"
   ]
  },
  {
   "cell_type": "code",
   "execution_count": 181,
   "metadata": {
    "pycharm": {
     "name": "#%%\n"
    }
   },
   "outputs": [
    {
     "data": {
      "text/plain": "(163974, 4)"
     },
     "execution_count": 181,
     "metadata": {},
     "output_type": "execute_result"
    }
   ],
   "source": [
    "df.shape #display size of dataframe"
   ]
  },
  {
   "cell_type": "code",
   "execution_count": 182,
   "metadata": {
    "pycharm": {
     "name": "#%%\n"
    }
   },
   "outputs": [
    {
     "data": {
      "text/plain": "    Unnamed: 0                   Datetime  \\\n0            0  2020-11-15 14:35:54+00:00   \n1            1  2020-11-14 13:23:04+00:00   \n2            2  2020-11-14 13:00:31+00:00   \n3            3  2020-11-14 12:42:26+00:00   \n4            4  2020-11-14 12:35:47+00:00   \n5            5  2020-11-14 12:23:53+00:00   \n6            6  2020-11-14 12:11:11+00:00   \n7            7  2020-11-14 10:28:57+00:00   \n8            8  2020-11-14 10:24:09+00:00   \n9            9  2020-11-14 09:19:59+00:00   \n10          10  2020-11-14 08:17:50+00:00   \n11          11  2020-10-11 03:17:24+00:00   \n12          12  2020-10-10 01:00:39+00:00   \n13          13  2020-09-10 17:34:04+00:00   \n14          14  2020-08-24 08:34:30+00:00   \n15          15  2020-08-11 08:35:42+00:00   \n16          16  2020-08-09 18:55:42+00:00   \n17          17  2020-11-15 14:25:35+00:00   \n18          18  2020-11-14 21:00:00+00:00   \n19          19  2020-11-14 13:23:04+00:00   \n20          20  2020-11-14 13:05:46+00:00   \n21          21  2020-11-14 13:00:31+00:00   \n22          22  2020-11-14 12:42:26+00:00   \n23          23  2020-11-14 12:40:44+00:00   \n24          24  2020-11-14 12:35:47+00:00   \n25          25  2020-11-14 12:23:53+00:00   \n26          26  2020-11-14 12:11:11+00:00   \n27          27  2020-11-14 10:40:04+00:00   \n28          28  2020-11-14 10:28:57+00:00   \n29          29  2020-11-14 10:24:09+00:00   \n30          30  2020-11-14 09:43:45+00:00   \n31          31  2020-11-14 09:25:06+00:00   \n32          32  2020-11-14 09:19:59+00:00   \n33          33  2020-11-14 08:51:08+00:00   \n34          34  2020-11-14 08:23:18+00:00   \n35          35  2020-11-14 08:01:23+00:00   \n0            0  2020-12-30 16:00:47+00:00   \n1            1  2020-12-30 12:11:08+00:00   \n2            2  2020-12-30 11:41:45+00:00   \n3            3  2020-12-30 07:57:22+00:00   \n4            4  2020-12-29 15:45:14+00:00   \n5            5  2020-12-29 15:29:58+00:00   \n6            6  2020-12-29 14:08:31+00:00   \n7            7  2020-12-27 00:54:49+00:00   \n8            8  2020-12-26 23:35:26+00:00   \n9            9  2020-12-25 17:15:57+00:00   \n10          10  2020-12-25 15:15:00+00:00   \n11          11  2020-12-25 13:26:53+00:00   \n12          12  2020-12-24 20:55:57+00:00   \n13          13  2020-12-24 10:48:59+00:00   \n\n                                                 Text Language  \n0   Ghajar inspects pipeline explosion scene in Ak...       ro  \n1   Nov. 14 (MNA) â€“ An oil pipeline explosion to...       en  \n2   Lebanon: A large explosion in the oil pipeline...       en  \n3   Explosion / ignition of an oil pipeline in Al-...       en  \n4   Oil pipeline explosion at several points in Ak...       en  \n5   #BREAKING - Large explosion in Akkar, Lebanon ...       en  \n6   ðŸ‡±ðŸ‡§ Lebanon: A large explosion in the oil...       en  \n7   A massive oil pipeline #explosion shook North ...       en  \n8   BREAKING â€“ Lebanon: A large explosion in the...       en  \n9   Oil pipeline explosion in Akkar https://t.co/R...       et  \n10  #Liban - Une explosion dans un tube pÃ©trolier...       fr  \n11  Army Chief Meets Lebanon Delegation Tasked wit...       en  \n12  09/10/2020 \\n\\n- massive wildfires spotted in ...       en  \n13  a huge fire rampages in beirut one month after...       en  \n14  @jujustep_julien Bruh lebanon is a mess some p...       en  \n15  The first days of our #Summer #Mountain Camp a...       en  \n16  There is a woman, I saw her number on one of t...       en  \n17  Huge Pipeline Fire Controlled in Northern Leba...       en  \n18  A massive fire broke out in an oil pipeline in...       en  \n19  Nov. 14 (MNA) â€“ An oil pipeline explosion to...       en  \n20  An oil pipeline has exploded in the town of #A...       en  \n21  Lebanon: A large explosion in the oil pipeline...       en  \n22  Explosion / ignition of an oil pipeline in Al-...       en  \n23  An Oil Pipeline Just Exploded In North #Lebano...       en  \n24  Oil pipeline explosion at several points in Ak...       en  \n25  #BREAKING - Large explosion in Akkar, Lebanon ...       en  \n26  ðŸ‡±ðŸ‡§ Lebanon: A large explosion in the oil...       en  \n27  An oil pipeline has exploded in the town of Ab...       en  \n28  A massive oil pipeline #explosion shook North ...       en  \n29  BREAKING â€“ Lebanon: A large explosion in the...       en  \n30  Akkar oil pipeline fire contained  https://t.c...       fr  \n31  Watch: Large fire breaks out at oil pipeline i...       en  \n32  Oil pipeline explosion in Akkar https://t.co/R...       et  \n33  A large fire has broken out in Abdeh, Akkar, a...       en  \n34  An oil pipeline has exploded in the town of Ab...       en  \n35  #Breaking: The oil pipeline in #Al-Abdah - #Ak...       en  \n0   Lebanonâ€™s caretaker prime minister said Tues...       en  \n1   Lebanonâ€™s outgoing premier Hassan Diab said ...       en  \n2   From Lebanon: Who cleaned up after the devasta...       en  \n3   #Lebanon's PM Hassan Diab shocked by 'diabolic...       en  \n4   @shytigress @Ravichiruvolu1 @keeranl @dstlouis...       en  \n5   #Lebanon's outgoing premier Hassan Diab said T...       en  \n6   The blast that blew away Lebanonâ€™s faith in ...       en  \n7   @JessTurnr August 4, 2020 - \"simple accidental...       en  \n8   My humble proposal: no matter what they say or...       en  \n9   Wounded people evacuate after a massive explos...       en  \n10  It is the festive season, but for the resident...       en  \n11  Lebanon's capital, Beirut, has turned into a p...       en  \n12  Christmas 2020 in #Lebanon. My thoughts go out...       en  \n13  Christmas is supposed to be a joyful season, b...       en  ",
      "text/html": "<div>\n<style scoped>\n    .dataframe tbody tr th:only-of-type {\n        vertical-align: middle;\n    }\n\n    .dataframe tbody tr th {\n        vertical-align: top;\n    }\n\n    .dataframe thead th {\n        text-align: right;\n    }\n</style>\n<table border=\"1\" class=\"dataframe\">\n  <thead>\n    <tr style=\"text-align: right;\">\n      <th></th>\n      <th>Unnamed: 0</th>\n      <th>Datetime</th>\n      <th>Text</th>\n      <th>Language</th>\n    </tr>\n  </thead>\n  <tbody>\n    <tr>\n      <th>0</th>\n      <td>0</td>\n      <td>2020-11-15 14:35:54+00:00</td>\n      <td>Ghajar inspects pipeline explosion scene in Ak...</td>\n      <td>ro</td>\n    </tr>\n    <tr>\n      <th>1</th>\n      <td>1</td>\n      <td>2020-11-14 13:23:04+00:00</td>\n      <td>Nov. 14 (MNA) â€“ An oil pipeline explosion to...</td>\n      <td>en</td>\n    </tr>\n    <tr>\n      <th>2</th>\n      <td>2</td>\n      <td>2020-11-14 13:00:31+00:00</td>\n      <td>Lebanon: A large explosion in the oil pipeline...</td>\n      <td>en</td>\n    </tr>\n    <tr>\n      <th>3</th>\n      <td>3</td>\n      <td>2020-11-14 12:42:26+00:00</td>\n      <td>Explosion / ignition of an oil pipeline in Al-...</td>\n      <td>en</td>\n    </tr>\n    <tr>\n      <th>4</th>\n      <td>4</td>\n      <td>2020-11-14 12:35:47+00:00</td>\n      <td>Oil pipeline explosion at several points in Ak...</td>\n      <td>en</td>\n    </tr>\n    <tr>\n      <th>5</th>\n      <td>5</td>\n      <td>2020-11-14 12:23:53+00:00</td>\n      <td>#BREAKING - Large explosion in Akkar, Lebanon ...</td>\n      <td>en</td>\n    </tr>\n    <tr>\n      <th>6</th>\n      <td>6</td>\n      <td>2020-11-14 12:11:11+00:00</td>\n      <td>ðŸ‡±ðŸ‡§ Lebanon: A large explosion in the oil...</td>\n      <td>en</td>\n    </tr>\n    <tr>\n      <th>7</th>\n      <td>7</td>\n      <td>2020-11-14 10:28:57+00:00</td>\n      <td>A massive oil pipeline #explosion shook North ...</td>\n      <td>en</td>\n    </tr>\n    <tr>\n      <th>8</th>\n      <td>8</td>\n      <td>2020-11-14 10:24:09+00:00</td>\n      <td>BREAKING â€“ Lebanon: A large explosion in the...</td>\n      <td>en</td>\n    </tr>\n    <tr>\n      <th>9</th>\n      <td>9</td>\n      <td>2020-11-14 09:19:59+00:00</td>\n      <td>Oil pipeline explosion in Akkar https://t.co/R...</td>\n      <td>et</td>\n    </tr>\n    <tr>\n      <th>10</th>\n      <td>10</td>\n      <td>2020-11-14 08:17:50+00:00</td>\n      <td>#Liban - Une explosion dans un tube pÃ©trolier...</td>\n      <td>fr</td>\n    </tr>\n    <tr>\n      <th>11</th>\n      <td>11</td>\n      <td>2020-10-11 03:17:24+00:00</td>\n      <td>Army Chief Meets Lebanon Delegation Tasked wit...</td>\n      <td>en</td>\n    </tr>\n    <tr>\n      <th>12</th>\n      <td>12</td>\n      <td>2020-10-10 01:00:39+00:00</td>\n      <td>09/10/2020 \\n\\n- massive wildfires spotted in ...</td>\n      <td>en</td>\n    </tr>\n    <tr>\n      <th>13</th>\n      <td>13</td>\n      <td>2020-09-10 17:34:04+00:00</td>\n      <td>a huge fire rampages in beirut one month after...</td>\n      <td>en</td>\n    </tr>\n    <tr>\n      <th>14</th>\n      <td>14</td>\n      <td>2020-08-24 08:34:30+00:00</td>\n      <td>@jujustep_julien Bruh lebanon is a mess some p...</td>\n      <td>en</td>\n    </tr>\n    <tr>\n      <th>15</th>\n      <td>15</td>\n      <td>2020-08-11 08:35:42+00:00</td>\n      <td>The first days of our #Summer #Mountain Camp a...</td>\n      <td>en</td>\n    </tr>\n    <tr>\n      <th>16</th>\n      <td>16</td>\n      <td>2020-08-09 18:55:42+00:00</td>\n      <td>There is a woman, I saw her number on one of t...</td>\n      <td>en</td>\n    </tr>\n    <tr>\n      <th>17</th>\n      <td>17</td>\n      <td>2020-11-15 14:25:35+00:00</td>\n      <td>Huge Pipeline Fire Controlled in Northern Leba...</td>\n      <td>en</td>\n    </tr>\n    <tr>\n      <th>18</th>\n      <td>18</td>\n      <td>2020-11-14 21:00:00+00:00</td>\n      <td>A massive fire broke out in an oil pipeline in...</td>\n      <td>en</td>\n    </tr>\n    <tr>\n      <th>19</th>\n      <td>19</td>\n      <td>2020-11-14 13:23:04+00:00</td>\n      <td>Nov. 14 (MNA) â€“ An oil pipeline explosion to...</td>\n      <td>en</td>\n    </tr>\n    <tr>\n      <th>20</th>\n      <td>20</td>\n      <td>2020-11-14 13:05:46+00:00</td>\n      <td>An oil pipeline has exploded in the town of #A...</td>\n      <td>en</td>\n    </tr>\n    <tr>\n      <th>21</th>\n      <td>21</td>\n      <td>2020-11-14 13:00:31+00:00</td>\n      <td>Lebanon: A large explosion in the oil pipeline...</td>\n      <td>en</td>\n    </tr>\n    <tr>\n      <th>22</th>\n      <td>22</td>\n      <td>2020-11-14 12:42:26+00:00</td>\n      <td>Explosion / ignition of an oil pipeline in Al-...</td>\n      <td>en</td>\n    </tr>\n    <tr>\n      <th>23</th>\n      <td>23</td>\n      <td>2020-11-14 12:40:44+00:00</td>\n      <td>An Oil Pipeline Just Exploded In North #Lebano...</td>\n      <td>en</td>\n    </tr>\n    <tr>\n      <th>24</th>\n      <td>24</td>\n      <td>2020-11-14 12:35:47+00:00</td>\n      <td>Oil pipeline explosion at several points in Ak...</td>\n      <td>en</td>\n    </tr>\n    <tr>\n      <th>25</th>\n      <td>25</td>\n      <td>2020-11-14 12:23:53+00:00</td>\n      <td>#BREAKING - Large explosion in Akkar, Lebanon ...</td>\n      <td>en</td>\n    </tr>\n    <tr>\n      <th>26</th>\n      <td>26</td>\n      <td>2020-11-14 12:11:11+00:00</td>\n      <td>ðŸ‡±ðŸ‡§ Lebanon: A large explosion in the oil...</td>\n      <td>en</td>\n    </tr>\n    <tr>\n      <th>27</th>\n      <td>27</td>\n      <td>2020-11-14 10:40:04+00:00</td>\n      <td>An oil pipeline has exploded in the town of Ab...</td>\n      <td>en</td>\n    </tr>\n    <tr>\n      <th>28</th>\n      <td>28</td>\n      <td>2020-11-14 10:28:57+00:00</td>\n      <td>A massive oil pipeline #explosion shook North ...</td>\n      <td>en</td>\n    </tr>\n    <tr>\n      <th>29</th>\n      <td>29</td>\n      <td>2020-11-14 10:24:09+00:00</td>\n      <td>BREAKING â€“ Lebanon: A large explosion in the...</td>\n      <td>en</td>\n    </tr>\n    <tr>\n      <th>30</th>\n      <td>30</td>\n      <td>2020-11-14 09:43:45+00:00</td>\n      <td>Akkar oil pipeline fire contained  https://t.c...</td>\n      <td>fr</td>\n    </tr>\n    <tr>\n      <th>31</th>\n      <td>31</td>\n      <td>2020-11-14 09:25:06+00:00</td>\n      <td>Watch: Large fire breaks out at oil pipeline i...</td>\n      <td>en</td>\n    </tr>\n    <tr>\n      <th>32</th>\n      <td>32</td>\n      <td>2020-11-14 09:19:59+00:00</td>\n      <td>Oil pipeline explosion in Akkar https://t.co/R...</td>\n      <td>et</td>\n    </tr>\n    <tr>\n      <th>33</th>\n      <td>33</td>\n      <td>2020-11-14 08:51:08+00:00</td>\n      <td>A large fire has broken out in Abdeh, Akkar, a...</td>\n      <td>en</td>\n    </tr>\n    <tr>\n      <th>34</th>\n      <td>34</td>\n      <td>2020-11-14 08:23:18+00:00</td>\n      <td>An oil pipeline has exploded in the town of Ab...</td>\n      <td>en</td>\n    </tr>\n    <tr>\n      <th>35</th>\n      <td>35</td>\n      <td>2020-11-14 08:01:23+00:00</td>\n      <td>#Breaking: The oil pipeline in #Al-Abdah - #Ak...</td>\n      <td>en</td>\n    </tr>\n    <tr>\n      <th>0</th>\n      <td>0</td>\n      <td>2020-12-30 16:00:47+00:00</td>\n      <td>Lebanonâ€™s caretaker prime minister said Tues...</td>\n      <td>en</td>\n    </tr>\n    <tr>\n      <th>1</th>\n      <td>1</td>\n      <td>2020-12-30 12:11:08+00:00</td>\n      <td>Lebanonâ€™s outgoing premier Hassan Diab said ...</td>\n      <td>en</td>\n    </tr>\n    <tr>\n      <th>2</th>\n      <td>2</td>\n      <td>2020-12-30 11:41:45+00:00</td>\n      <td>From Lebanon: Who cleaned up after the devasta...</td>\n      <td>en</td>\n    </tr>\n    <tr>\n      <th>3</th>\n      <td>3</td>\n      <td>2020-12-30 07:57:22+00:00</td>\n      <td>#Lebanon's PM Hassan Diab shocked by 'diabolic...</td>\n      <td>en</td>\n    </tr>\n    <tr>\n      <th>4</th>\n      <td>4</td>\n      <td>2020-12-29 15:45:14+00:00</td>\n      <td>@shytigress @Ravichiruvolu1 @keeranl @dstlouis...</td>\n      <td>en</td>\n    </tr>\n    <tr>\n      <th>5</th>\n      <td>5</td>\n      <td>2020-12-29 15:29:58+00:00</td>\n      <td>#Lebanon's outgoing premier Hassan Diab said T...</td>\n      <td>en</td>\n    </tr>\n    <tr>\n      <th>6</th>\n      <td>6</td>\n      <td>2020-12-29 14:08:31+00:00</td>\n      <td>The blast that blew away Lebanonâ€™s faith in ...</td>\n      <td>en</td>\n    </tr>\n    <tr>\n      <th>7</th>\n      <td>7</td>\n      <td>2020-12-27 00:54:49+00:00</td>\n      <td>@JessTurnr August 4, 2020 - \"simple accidental...</td>\n      <td>en</td>\n    </tr>\n    <tr>\n      <th>8</th>\n      <td>8</td>\n      <td>2020-12-26 23:35:26+00:00</td>\n      <td>My humble proposal: no matter what they say or...</td>\n      <td>en</td>\n    </tr>\n    <tr>\n      <th>9</th>\n      <td>9</td>\n      <td>2020-12-25 17:15:57+00:00</td>\n      <td>Wounded people evacuate after a massive explos...</td>\n      <td>en</td>\n    </tr>\n    <tr>\n      <th>10</th>\n      <td>10</td>\n      <td>2020-12-25 15:15:00+00:00</td>\n      <td>It is the festive season, but for the resident...</td>\n      <td>en</td>\n    </tr>\n    <tr>\n      <th>11</th>\n      <td>11</td>\n      <td>2020-12-25 13:26:53+00:00</td>\n      <td>Lebanon's capital, Beirut, has turned into a p...</td>\n      <td>en</td>\n    </tr>\n    <tr>\n      <th>12</th>\n      <td>12</td>\n      <td>2020-12-24 20:55:57+00:00</td>\n      <td>Christmas 2020 in #Lebanon. My thoughts go out...</td>\n      <td>en</td>\n    </tr>\n    <tr>\n      <th>13</th>\n      <td>13</td>\n      <td>2020-12-24 10:48:59+00:00</td>\n      <td>Christmas is supposed to be a joyful season, b...</td>\n      <td>en</td>\n    </tr>\n  </tbody>\n</table>\n</div>"
     },
     "execution_count": 182,
     "metadata": {},
     "output_type": "execute_result"
    }
   ],
   "source": [
    "df.head(50)"
   ]
  },
  {
   "cell_type": "code",
   "execution_count": 183,
   "metadata": {
    "pycharm": {
     "name": "#%%\n"
    }
   },
   "outputs": [],
   "source": [
    "df['Datetime'] = pd.to_datetime(df['Datetime']).dt.date #transform date to yyyy-mm-dd\n",
    "#convert Language and Text to string\n",
    "df.Language=df.Language.astype(\"string\")\n",
    "df.Text=df.Text.astype(\"string\")"
   ]
  },
  {
   "cell_type": "code",
   "execution_count": 184,
   "metadata": {
    "pycharm": {
     "name": "#%%\n"
    }
   },
   "outputs": [
    {
     "name": "stdout",
     "output_type": "stream",
     "text": [
      "<class 'pandas.core.frame.DataFrame'>\n",
      "Int64Index: 163974 entries, 0 to 10000\n",
      "Data columns (total 4 columns):\n",
      " #   Column      Non-Null Count   Dtype \n",
      "---  ------      --------------   ----- \n",
      " 0   Unnamed: 0  163974 non-null  int64 \n",
      " 1   Datetime    163974 non-null  object\n",
      " 2   Text        163965 non-null  string\n",
      " 3   Language    163974 non-null  string\n",
      "dtypes: int64(1), object(1), string(2)\n",
      "memory usage: 6.3+ MB\n"
     ]
    }
   ],
   "source": [
    "df.info()"
   ]
  },
  {
   "cell_type": "code",
   "execution_count": 185,
   "metadata": {
    "pycharm": {
     "name": "#%%\n"
    }
   },
   "outputs": [
    {
     "name": "stdout",
     "output_type": "stream",
     "text": [
      "<class 'pandas.core.frame.DataFrame'>\n",
      "Int64Index: 145837 entries, 1 to 9999\n",
      "Data columns (total 4 columns):\n",
      " #   Column      Non-Null Count   Dtype \n",
      "---  ------      --------------   ----- \n",
      " 0   Unnamed: 0  145837 non-null  int64 \n",
      " 1   Datetime    145837 non-null  object\n",
      " 2   Text        145828 non-null  string\n",
      " 3   Language    145837 non-null  string\n",
      "dtypes: int64(1), object(1), string(2)\n",
      "memory usage: 5.6+ MB\n"
     ]
    }
   ],
   "source": [
    "df=df[df[\"Language\"]==\"en\"]\n",
    "df.info()"
   ]
  },
  {
   "cell_type": "code",
   "execution_count": 194,
   "metadata": {
    "pycharm": {
     "name": "#%%\n"
    }
   },
   "outputs": [],
   "source": [
    "df.drop_duplicates(keep='first',inplace=True) #drop duplicate tweets"
   ]
  },
  {
   "cell_type": "code",
   "execution_count": 195,
   "outputs": [],
   "source": [
    "df.Text.replace({r'#':\"\"},inplace=True,regex=True) #remove hashtag\n",
    "#df.Text.replace({r'@[A-Za-z0-9_]+':\"\"},inplace=True,regex=True) #remove mentions"
   ],
   "metadata": {
    "collapsed": false,
    "pycharm": {
     "name": "#%%\n"
    }
   }
  },
  {
   "cell_type": "code",
   "execution_count": 196,
   "metadata": {
    "pycharm": {
     "name": "#%%\n"
    }
   },
   "outputs": [],
   "source": [
    "df.Text.replace(r'\\s*@\\w+',\"\",inplace=True,regex=True) #remove mentions\n",
    "df.Text.replace(r'\\s*\\B@\\w+',\"\",inplace=True,regex=True) #remove mentions\n",
    "df.Text.replace(r'\\s*@\\S+',\"\",inplace=True,regex=True) #remove mentions\n",
    "df.Text.replace(r'\\s*@\\S+\\b',\"\",inplace=True,regex=True) #remove mentions"
   ]
  },
  {
   "cell_type": "code",
   "execution_count": 197,
   "outputs": [],
   "source": [
    "df.Text.replace({r'(http\\S+)':\"\"},inplace=True,regex=True) #remove links\n",
    "df.Text.replace({r'[^\\x00-\\x7F]+':''}, regex=True, inplace=True) #remove special characters like #$%@^*"
   ],
   "metadata": {
    "collapsed": false,
    "pycharm": {
     "name": "#%%\n"
    }
   }
  },
  {
   "cell_type": "code",
   "execution_count": 198,
   "metadata": {
    "pycharm": {
     "name": "#%%\n"
    }
   },
   "outputs": [
    {
     "data": {
      "text/plain": "0"
     },
     "execution_count": 198,
     "metadata": {},
     "output_type": "execute_result"
    }
   ],
   "source": [
    "df=df.drop(df[df.Text.isna()==True].index)#drop rows with empty cells\n",
    "df.Text.isna().sum()"
   ]
  },
  {
   "cell_type": "code",
   "execution_count": 199,
   "metadata": {
    "pycharm": {
     "name": "#%%\n"
    }
   },
   "outputs": [],
   "source": [
    "#join all rows with same date\n",
    "foo = lambda a: \" \".join(a)\n",
    "df=df.groupby(by='Datetime').agg({'Text': foo}).reset_index()"
   ]
  },
  {
   "cell_type": "code",
   "execution_count": 200,
   "metadata": {
    "pycharm": {
     "name": "#%%\n"
    }
   },
   "outputs": [
    {
     "data": {
      "text/plain": "     Datetime                                               Text\n0  2020-01-01  2/ loss single person. \"The first suicide bomb...\n1  2020-01-02  i'm board NGO registered Lebanon bank account ...\n2  2020-01-03  The war Iraq monumental mistake. Whereas Iran ...\n3  2020-01-04  So bomb shiia important places MEA? Sayeda Zai...\n4  2020-01-05  It's going war like first Gulf War, going asym...",
      "text/html": "<div>\n<style scoped>\n    .dataframe tbody tr th:only-of-type {\n        vertical-align: middle;\n    }\n\n    .dataframe tbody tr th {\n        vertical-align: top;\n    }\n\n    .dataframe thead th {\n        text-align: right;\n    }\n</style>\n<table border=\"1\" class=\"dataframe\">\n  <thead>\n    <tr style=\"text-align: right;\">\n      <th></th>\n      <th>Datetime</th>\n      <th>Text</th>\n    </tr>\n  </thead>\n  <tbody>\n    <tr>\n      <th>0</th>\n      <td>2020-01-01</td>\n      <td>2/ loss single person. \"The first suicide bomb...</td>\n    </tr>\n    <tr>\n      <th>1</th>\n      <td>2020-01-02</td>\n      <td>i'm board NGO registered Lebanon bank account ...</td>\n    </tr>\n    <tr>\n      <th>2</th>\n      <td>2020-01-03</td>\n      <td>The war Iraq monumental mistake. Whereas Iran ...</td>\n    </tr>\n    <tr>\n      <th>3</th>\n      <td>2020-01-04</td>\n      <td>So bomb shiia important places MEA? Sayeda Zai...</td>\n    </tr>\n    <tr>\n      <th>4</th>\n      <td>2020-01-05</td>\n      <td>It's going war like first Gulf War, going asym...</td>\n    </tr>\n  </tbody>\n</table>\n</div>"
     },
     "execution_count": 200,
     "metadata": {},
     "output_type": "execute_result"
    }
   ],
   "source": [
    "df.head()"
   ]
  },
  {
   "cell_type": "code",
   "execution_count": 201,
   "metadata": {
    "pycharm": {
     "name": "#%%\n"
    }
   },
   "outputs": [
    {
     "name": "stderr",
     "output_type": "stream",
     "text": [
      "[nltk_data] Downloading package stopwords to\n",
      "[nltk_data]     C:\\Users\\micha\\AppData\\Roaming\\nltk_data...\n",
      "[nltk_data]   Package stopwords is already up-to-date!\n"
     ]
    }
   ],
   "source": [
    "#Remove stopwords (The, is, a,...) from Text\n",
    "import nltk\n",
    "nltk.download('stopwords')\n",
    "from nltk.corpus import stopwords\n",
    "stop = stopwords.words('english')\n",
    "df['Text'] = df['Text'].apply(lambda x: ' '.join([word for word in x.split() if word not in (stop)]))"
   ]
  },
  {
   "cell_type": "code",
   "execution_count": 202,
   "metadata": {
    "pycharm": {
     "name": "#%%\n"
    }
   },
   "outputs": [],
   "source": [
    "df.to_excel(\"Clean Data.xlsx\")"
   ]
  },
  {
   "cell_type": "code",
   "execution_count": 203,
   "metadata": {
    "pycharm": {
     "name": "#%%\n"
    }
   },
   "outputs": [
    {
     "data": {
      "text/plain": "(365, 2)"
     },
     "execution_count": 203,
     "metadata": {},
     "output_type": "execute_result"
    }
   ],
   "source": [
    "df.shape"
   ]
  }
 ],
 "metadata": {
  "kernelspec": {
   "display_name": "Python 3 (ipykernel)",
   "language": "python",
   "name": "python3"
  },
  "language_info": {
   "codemirror_mode": {
    "name": "ipython",
    "version": 3
   },
   "file_extension": ".py",
   "mimetype": "text/x-python",
   "name": "python",
   "nbconvert_exporter": "python",
   "pygments_lexer": "ipython3",
   "version": "3.9.7"
  }
 },
 "nbformat": 4,
 "nbformat_minor": 1
}